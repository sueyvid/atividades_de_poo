{
 "cells": [
  {
   "cell_type": "markdown",
   "id": "cfdd8bbf",
   "metadata": {},
   "source": [
    "## Prática 2.4 - Processador de Texto\n",
    "\n",
    "Implemente o sistema orientado a objetos exibido no diagrama de classe a seguir. Este sistema serve para processar textos, exibindo diferentes funcionalidades como contar quantas vezes ocorre cada palavra ou traduzir palavras do português para inglês.\n",
    "\n",
    "![Diagrama de classes](https://raw.githubusercontent.com/ect-info/POO_2021.1/master/docs/12-heranca-multipla/pratica_heranca_multipla.png)\n",
    "\n",
    "Na sua implementação, considere o seguinte:\n",
    "\n",
    "- É obrigatório manter a interface pública de cada classe como indicada no diagrama de classes\n",
    "- Cada classe deve pode ser instanciada e funcionar por si só\n",
    "- Implemente métodos (não publicos) auxiliares, caso deseje\n",
    "- Os atributos presentes no diagrama servem apenas como implementação de referência. Você está livre implementar cada classe como achar mais conveniente, desde que ela faça o que se pede:\n",
    "    - Classe `PreProcessador`: o método `processa` deve transformar um texto em uma lista de palavras. Na implementação de referência, o resultado é armazenado no atributo `lista_palavras`\n",
    "    - Classe `ContadorPalavras`: o método `processa` deve contar quantas vezes cada palavra ocorre em uma lista. Na implementação de referência, o resultado é armazenado no atributo `ocorrencias`\n",
    "    - Classe `Tradutor`: o método `processa` deve traduzir palavras contidas em uma lista para inglês. Na implementação de referência, as traduções estão no atributo `traducoes` e o resultado é armazenado no atributo `lista_palavras_trad`\n",
    "    - Classe `ProcessadorTexto`: o método `processa` deve, utilizando as classes `ContadorPalavras` e `Tradutor` exibir uma tradução rudimentar do texto original em inglês em uma única string e a frequência das palavras do texto de entrada\n",
    "    \n",
    "Utilize o código a seguir para testar a sua implementação."
   ]
  },
  {
   "cell_type": "code",
   "execution_count": null,
   "id": "6cc31be0",
   "metadata": {},
   "outputs": [],
   "source": [
    "if __name__ == '__main__':\n",
    "    # Descomente a seguir para testar apenas a classe PreProcessador\n",
    "    # preprocessador = PreProcessador('OLá! Este é um exemplo de texto com termos repetidos.'\n",
    "    #                                 ' Este texto possui vários termos repetidos:'\n",
    "    #                                 ' este, Este, ESte, esTE!')\n",
    "    # preprocessador.processa()\n",
    "    # print(preprocessador)\n",
    "    \n",
    "    # Descomente a seguir para testar apenas a classe ContadorPalavras\n",
    "    # contador = ContadorPalavras('OLá! Este é um exemplo de texto com termos repetidos.'\n",
    "    #                             ' Este texto possui vários termos repetidos:'\n",
    "    #                             ' este, Este, ESte, esTE!')\n",
    "    # contador.processa()\n",
    "    # print(contador)\n",
    "\n",
    "    # Descomente a seguir para testar apenas a classe Tradutor\n",
    "    # tradutor = Tradutor('OLá! Este é um exemplo de texto com termos repetidos.'\n",
    "    #                     ' Este texto possui vários termos repetidos:'\n",
    "    #                     ' este, Este, ESte, esTE!')\n",
    "    # tradutor.processa()\n",
    "    # print(tradutor)\n",
    "\n",
    "    processadortexto = ProcessadorTexto('OLá! Este é um exemplo de texto com termos repetidos.'\n",
    "                                        ' Este texto possui vários termos repetidos:'\n",
    "                                        ' este, Este, ESte, esTE!')\n",
    "    processadortexto.processa()"
   ]
  },
  {
   "cell_type": "markdown",
   "id": "bdda5069",
   "metadata": {},
   "source": [
    "Saída esperada:\n",
    "\n",
    "```\n",
    "Frequencia das palavras:\n",
    "olá: 1 vezes\n",
    "este: 6 vezes\n",
    "é: 1 vezes\n",
    "um: 1 vezes\n",
    "exemplo: 1 vezes\n",
    "de: 1 vezes\n",
    "texto: 2 vezes\n",
    "com: 1 vezes\n",
    "termos: 2 vezes\n",
    "repetidos: 2 vezes\n",
    "possui: 1 vezes\n",
    "vários: 1 vezes\n",
    "\n",
    "Tradução robótica:\n",
    "hello this is a example of text with terms repeated this text has various terms repeated this this this this\n",
    "```"
   ]
  },
  {
   "cell_type": "code",
   "execution_count": null,
   "id": "c1eb4719",
   "metadata": {},
   "outputs": [],
   "source": []
  }
 ],
 "metadata": {
  "kernelspec": {
   "display_name": "Python 3 (ipykernel)",
   "language": "python",
   "name": "python3"
  },
  "language_info": {
   "codemirror_mode": {
    "name": "ipython",
    "version": 3
   },
   "file_extension": ".py",
   "mimetype": "text/x-python",
   "name": "python",
   "nbconvert_exporter": "python",
   "pygments_lexer": "ipython3",
   "version": "3.9.7"
  }
 },
 "nbformat": 4,
 "nbformat_minor": 5
}
