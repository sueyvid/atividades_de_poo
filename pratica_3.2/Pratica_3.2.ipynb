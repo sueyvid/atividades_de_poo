{
 "cells": [
  {
   "cell_type": "markdown",
   "id": "c306356d",
   "metadata": {},
   "source": [
    "## Prática 3.2 - Lista de Filmes\n",
    "\n",
    "Implemente uma aplicação Python/Tkinter para armazenar uma lista de filmes\n",
    "que um usuário assistiu.\n",
    "O aplicativo deve conter obrigatoriamente as operações de:\n",
    "\n",
    "- **Inserir** um filme na lista\n",
    "- **Atualizar** um filme já presente na lista\n",
    "- **Remover** um filme já presente na lista\n",
    "\n",
    "Você está livre para implementar o seu programa da maneira como achar mais conveniente, desde que utilize um `tk.Listbox` para armazenar a lista de filmes.\n",
    "\n",
    "Assuma que o usuário será bem comportado: não precisa\n",
    "tratar exceções.\n",
    "\n",
    "Observe o vídeo a seguir com um exemplo da aplicação em funcionamento."
   ]
  },
  {
   "cell_type": "code",
   "execution_count": null,
   "id": "97f45a12",
   "metadata": {},
   "outputs": [],
   "source": [
    "%%HTML\n",
    "<video width=\"300\" height=\"300\" controls>\n",
    "  <source src=\"tk_filmes.mp4\" type=\"video/mp4\">\n",
    "</video>"
   ]
  },
  {
   "cell_type": "markdown",
   "id": "c1f14a83",
   "metadata": {},
   "source": [
    "As classes abaixo devem ser utilizadas pelo programa."
   ]
  },
  {
   "cell_type": "code",
   "execution_count": 5,
   "id": "352a766c",
   "metadata": {},
   "outputs": [
    {
     "name": "stdout",
     "output_type": "stream",
     "text": [
      "['O resgate do soldado Ryan (1998) - 9.0', 'A vida é bela (1997) - 9.5', 'Avengers: ultimato (2019) - 10.0']\n",
      "['O resgate do soldado Ryan (1998) - 8.5', 'A vida é bela (1997) - 9.5', 'Avengers: ultimato (2019) - 10.0']\n",
      "['O resgate do soldado Ryan (1998) - 8.5', 'Avengers: ultimato (2019) - 10.0']\n"
     ]
    }
   ],
   "source": [
    "class Filme:\n",
    "    def __init__(self, tit, ano, nota):\n",
    "        self.titulo = tit\n",
    "        self.ano = ano\n",
    "        self.nota = nota\n",
    "\n",
    "    def __str__(self):\n",
    "        return f'{self.titulo} ({self.ano}) - {self.nota}'\n",
    "\n",
    "class ListaFilmes:\n",
    "    def __init__(self):\n",
    "        self._filmes = []\n",
    "\n",
    "    def insere_filme(self, f):\n",
    "        self._filmes.append(f)\n",
    "\n",
    "    def atualiza_filme(self, pos, novo_filme):\n",
    "        self._filmes[pos] = novo_filme\n",
    "\n",
    "    def remove_filme(self, pos):\n",
    "        self._filmes.pop(pos)\n",
    "\n",
    "    def converte_para_lista(self):\n",
    "        '''\n",
    "        Gera lista de strings para ser\n",
    "        usada pela listbox.\n",
    "        '''\n",
    "        res = []\n",
    "        for f in self._filmes:\n",
    "            res.append(str(f))\n",
    "        return res\n",
    "    \n",
    "def main():\n",
    "    f1 = Filme('O resgate do soldado Ryan', 1998, 9.0)\n",
    "    f2 = Filme('A vida é bela', 1997, 9.5)\n",
    "    f3 = Filme('Avengers: ultimato', 2019, 10.0)\n",
    "    \n",
    "    lf = ListaFilmes()\n",
    "    \n",
    "    # Adiciona alguns filmes e imprime lista\n",
    "    lf.insere_filme(f1)\n",
    "    lf.insere_filme(f2)\n",
    "    lf.insere_filme(f3)\n",
    "    print(lf.converte_para_lista())\n",
    "    \n",
    "    # Atualiza primeiro filme da lista\n",
    "    novo_f1 = Filme('O resgate do soldado Ryan', 1998, 8.5)\n",
    "    lf.atualiza_filme(0, novo_f1)\n",
    "    print(lf.converte_para_lista())\n",
    "    \n",
    "    # Remove o filme da posição 1 na lista\n",
    "    lf.remove_filme(1)\n",
    "    print(lf.converte_para_lista())\n",
    "    \n",
    "if __name__ == '__main__':\n",
    "    main()"
   ]
  },
  {
   "cell_type": "markdown",
   "id": "4b2759c9",
   "metadata": {},
   "source": [
    "## Widget `Listbox`\n",
    "\n",
    "- Widget `Listbox`: mantém uma lista de textos em uma caixa, podendo ser possível selecionar uma linha específica\n",
    "- Sintaxe: `widget = tk.Listbox(root, lista_itens)`\n",
    "    - Cria objeto `widget` do tipo `tk.Listbox` tendo como mestre o objeto `root` e adicionando cada string presente em `lista_itens` em uma linha do `Listbox`"
   ]
  },
  {
   "cell_type": "code",
   "execution_count": 1,
   "id": "31280a94",
   "metadata": {},
   "outputs": [],
   "source": [
    "import tkinter as tk\n",
    "\n",
    "lista_itens = None\n",
    "lb = None\n",
    "\n",
    "def imprime_selecao():\n",
    "    \n",
    "    global lista_itens, lb\n",
    "    \n",
    "    tup = lb.curselection() # obtém tupla com todos os índices do listbox que estão selecionados\n",
    "    i = tup[0] # obtém o índice do item selecionado\n",
    "    s = lista_itens[i] # obtém string da lista de strings \"apontada\" pelo listbox\n",
    "    print(f'Item selecionado: {s}')\n",
    "\n",
    "def main():\n",
    "    \n",
    "    global lista_itens, lb\n",
    "    \n",
    "    root = tk.Tk()\n",
    "\n",
    "    lista_itens = ['item 0', 'item 1', 'item 2', 'item 3']\n",
    "    v_lista_itens = tk.StringVar()\n",
    "    v_lista_itens.set(lista_itens)\n",
    "\n",
    "    lb = tk.Listbox(root, listvariable=v_lista_itens)\n",
    "    lb.pack()\n",
    "\n",
    "    but = tk.Button(root, text='Obtém Item', command=imprime_selecao)\n",
    "    but.pack()\n",
    "\n",
    "    root.mainloop()\n",
    "    \n",
    "if __name__ == '__main__':\n",
    "    main()"
   ]
  },
  {
   "cell_type": "code",
   "execution_count": null,
   "id": "80440fad",
   "metadata": {},
   "outputs": [],
   "source": []
  }
 ],
 "metadata": {
  "kernelspec": {
   "display_name": "Python 3 (ipykernel)",
   "language": "python",
   "name": "python3"
  },
  "language_info": {
   "codemirror_mode": {
    "name": "ipython",
    "version": 3
   },
   "file_extension": ".py",
   "mimetype": "text/x-python",
   "name": "python",
   "nbconvert_exporter": "python",
   "pygments_lexer": "ipython3",
   "version": "3.9.7"
  }
 },
 "nbformat": 4,
 "nbformat_minor": 5
}
